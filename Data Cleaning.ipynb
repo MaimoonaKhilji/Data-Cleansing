{
 "cells": [
  {
   "cell_type": "markdown",
   "id": "c988ccd8",
   "metadata": {},
   "source": [
    "## Import packages"
   ]
  },
  {
   "cell_type": "code",
   "execution_count": 1,
   "id": "2042077a",
   "metadata": {},
   "outputs": [],
   "source": [
    "import pandas as pd\n",
    "import numpy as np\n",
    "import seaborn as sns\n",
    "import matplotlib.pyplot as plt\n",
    "import matplotlib.mlab as mlab\n",
    "import matplotlib\n",
    "plt.style.use('ggplot')\n",
    "from matplotlib.pyplot import figure\n",
    "\n",
    "%matplotlib inline\n",
    "matplotlib.rcParams['figure.figsize'] = (12,8)\n",
    "\n",
    "pd.options.mode.chained_assignment = None\n"
   ]
  },
  {
   "cell_type": "markdown",
   "id": "3a87046d",
   "metadata": {},
   "source": [
    "## read the data"
   ]
  },
  {
   "cell_type": "code",
   "execution_count": 2,
   "id": "09e37c94",
   "metadata": {},
   "outputs": [],
   "source": [
    "df = pd.read_csv('sberbank.csv')"
   ]
  },
  {
   "cell_type": "markdown",
   "id": "7bc0c1d4",
   "metadata": {},
   "source": [
    "## Shape and data types of the data"
   ]
  },
  {
   "cell_type": "code",
   "execution_count": 3,
   "id": "f5727138",
   "metadata": {
    "scrolled": true
   },
   "outputs": [
    {
     "name": "stdout",
     "output_type": "stream",
     "text": [
      "(30471, 292)\n",
      "id                      int64\n",
      "timestamp              object\n",
      "full_sq                 int64\n",
      "life_sq               float64\n",
      "floor                 float64\n",
      "                       ...   \n",
      "mosque_count_5000       int64\n",
      "leisure_count_5000      int64\n",
      "sport_count_5000        int64\n",
      "market_count_5000       int64\n",
      "price_doc               int64\n",
      "Length: 292, dtype: object\n"
     ]
    }
   ],
   "source": [
    "print(df.shape)\n",
    "print(df.dtypes)"
   ]
  },
  {
   "cell_type": "markdown",
   "id": "421d6858",
   "metadata": {},
   "source": [
    "## Select numeric columns"
   ]
  },
  {
   "cell_type": "code",
   "execution_count": 4,
   "id": "83764c69",
   "metadata": {
    "scrolled": true
   },
   "outputs": [
    {
     "name": "stdout",
     "output_type": "stream",
     "text": [
      "['id' 'full_sq' 'life_sq' 'floor' 'max_floor' 'material' 'build_year'\n",
      " 'num_room' 'kitch_sq' 'state' 'area_m' 'raion_popul' 'green_zone_part'\n",
      " 'indust_part' 'children_preschool' 'preschool_quota'\n",
      " 'preschool_education_centers_raion' 'children_school' 'school_quota'\n",
      " 'school_education_centers_raion' 'school_education_centers_top_20_raion'\n",
      " 'hospital_beds_raion' 'healthcare_centers_raion'\n",
      " 'university_top_20_raion' 'sport_objects_raion'\n",
      " 'additional_education_raion' 'culture_objects_top_25_raion'\n",
      " 'shopping_centers_raion' 'office_raion' 'full_all' 'male_f' 'female_f'\n",
      " 'young_all' 'young_male' 'young_female' 'work_all' 'work_male'\n",
      " 'work_female' 'ekder_all' 'ekder_male' 'ekder_female' '0_6_all'\n",
      " '0_6_male' '0_6_female' '7_14_all' '7_14_male' '7_14_female' '0_17_all'\n",
      " '0_17_male' '0_17_female' '16_29_all' '16_29_male' '16_29_female'\n",
      " '0_13_all' '0_13_male' '0_13_female'\n",
      " 'raion_build_count_with_material_info' 'build_count_block'\n",
      " 'build_count_wood' 'build_count_frame' 'build_count_brick'\n",
      " 'build_count_monolith' 'build_count_panel' 'build_count_foam'\n",
      " 'build_count_slag' 'build_count_mix'\n",
      " 'raion_build_count_with_builddate_info' 'build_count_before_1920'\n",
      " 'build_count_1921-1945' 'build_count_1946-1970' 'build_count_1971-1995'\n",
      " 'build_count_after_1995' 'ID_metro' 'metro_min_avto' 'metro_km_avto'\n",
      " 'metro_min_walk' 'metro_km_walk' 'kindergarten_km' 'school_km' 'park_km'\n",
      " 'green_zone_km' 'industrial_km' 'water_treatment_km' 'cemetery_km'\n",
      " 'incineration_km' 'railroad_station_walk_km' 'railroad_station_walk_min'\n",
      " 'ID_railroad_station_walk' 'railroad_station_avto_km'\n",
      " 'railroad_station_avto_min' 'ID_railroad_station_avto'\n",
      " 'public_transport_station_km' 'public_transport_station_min_walk'\n",
      " 'water_km' 'mkad_km' 'ttk_km' 'sadovoe_km' 'bulvar_ring_km' 'kremlin_km'\n",
      " 'big_road1_km' 'ID_big_road1' 'big_road2_km' 'ID_big_road2' 'railroad_km'\n",
      " 'zd_vokzaly_avto_km' 'ID_railroad_terminal' 'bus_terminal_avto_km'\n",
      " 'ID_bus_terminal' 'oil_chemistry_km' 'nuclear_reactor_km' 'radiation_km'\n",
      " 'power_transmission_line_km' 'thermal_power_plant_km' 'ts_km'\n",
      " 'big_market_km' 'market_shop_km' 'fitness_km' 'swim_pool_km'\n",
      " 'ice_rink_km' 'stadium_km' 'basketball_km' 'hospice_morgue_km'\n",
      " 'detention_facility_km' 'public_healthcare_km' 'university_km'\n",
      " 'workplaces_km' 'shopping_centers_km' 'office_km'\n",
      " 'additional_education_km' 'preschool_km' 'big_church_km'\n",
      " 'church_synagogue_km' 'mosque_km' 'theater_km' 'museum_km'\n",
      " 'exhibition_km' 'catering_km' 'green_part_500' 'prom_part_500'\n",
      " 'office_count_500' 'office_sqm_500' 'trc_count_500' 'trc_sqm_500'\n",
      " 'cafe_count_500' 'cafe_sum_500_min_price_avg'\n",
      " 'cafe_sum_500_max_price_avg' 'cafe_avg_price_500'\n",
      " 'cafe_count_500_na_price' 'cafe_count_500_price_500'\n",
      " 'cafe_count_500_price_1000' 'cafe_count_500_price_1500'\n",
      " 'cafe_count_500_price_2500' 'cafe_count_500_price_4000'\n",
      " 'cafe_count_500_price_high' 'big_church_count_500' 'church_count_500'\n",
      " 'mosque_count_500' 'leisure_count_500' 'sport_count_500'\n",
      " 'market_count_500' 'green_part_1000' 'prom_part_1000' 'office_count_1000'\n",
      " 'office_sqm_1000' 'trc_count_1000' 'trc_sqm_1000' 'cafe_count_1000'\n",
      " 'cafe_sum_1000_min_price_avg' 'cafe_sum_1000_max_price_avg'\n",
      " 'cafe_avg_price_1000' 'cafe_count_1000_na_price'\n",
      " 'cafe_count_1000_price_500' 'cafe_count_1000_price_1000'\n",
      " 'cafe_count_1000_price_1500' 'cafe_count_1000_price_2500'\n",
      " 'cafe_count_1000_price_4000' 'cafe_count_1000_price_high'\n",
      " 'big_church_count_1000' 'church_count_1000' 'mosque_count_1000'\n",
      " 'leisure_count_1000' 'sport_count_1000' 'market_count_1000'\n",
      " 'green_part_1500' 'prom_part_1500' 'office_count_1500' 'office_sqm_1500'\n",
      " 'trc_count_1500' 'trc_sqm_1500' 'cafe_count_1500'\n",
      " 'cafe_sum_1500_min_price_avg' 'cafe_sum_1500_max_price_avg'\n",
      " 'cafe_avg_price_1500' 'cafe_count_1500_na_price'\n",
      " 'cafe_count_1500_price_500' 'cafe_count_1500_price_1000'\n",
      " 'cafe_count_1500_price_1500' 'cafe_count_1500_price_2500'\n",
      " 'cafe_count_1500_price_4000' 'cafe_count_1500_price_high'\n",
      " 'big_church_count_1500' 'church_count_1500' 'mosque_count_1500'\n",
      " 'leisure_count_1500' 'sport_count_1500' 'market_count_1500'\n",
      " 'green_part_2000' 'prom_part_2000' 'office_count_2000' 'office_sqm_2000'\n",
      " 'trc_count_2000' 'trc_sqm_2000' 'cafe_count_2000'\n",
      " 'cafe_sum_2000_min_price_avg' 'cafe_sum_2000_max_price_avg'\n",
      " 'cafe_avg_price_2000' 'cafe_count_2000_na_price'\n",
      " 'cafe_count_2000_price_500' 'cafe_count_2000_price_1000'\n",
      " 'cafe_count_2000_price_1500' 'cafe_count_2000_price_2500'\n",
      " 'cafe_count_2000_price_4000' 'cafe_count_2000_price_high'\n",
      " 'big_church_count_2000' 'church_count_2000' 'mosque_count_2000'\n",
      " 'leisure_count_2000' 'sport_count_2000' 'market_count_2000'\n",
      " 'green_part_3000' 'prom_part_3000' 'office_count_3000' 'office_sqm_3000'\n",
      " 'trc_count_3000' 'trc_sqm_3000' 'cafe_count_3000'\n",
      " 'cafe_sum_3000_min_price_avg' 'cafe_sum_3000_max_price_avg'\n",
      " 'cafe_avg_price_3000' 'cafe_count_3000_na_price'\n",
      " 'cafe_count_3000_price_500' 'cafe_count_3000_price_1000'\n",
      " 'cafe_count_3000_price_1500' 'cafe_count_3000_price_2500'\n",
      " 'cafe_count_3000_price_4000' 'cafe_count_3000_price_high'\n",
      " 'big_church_count_3000' 'church_count_3000' 'mosque_count_3000'\n",
      " 'leisure_count_3000' 'sport_count_3000' 'market_count_3000'\n",
      " 'green_part_5000' 'prom_part_5000' 'office_count_5000' 'office_sqm_5000'\n",
      " 'trc_count_5000' 'trc_sqm_5000' 'cafe_count_5000'\n",
      " 'cafe_sum_5000_min_price_avg' 'cafe_sum_5000_max_price_avg'\n",
      " 'cafe_avg_price_5000' 'cafe_count_5000_na_price'\n",
      " 'cafe_count_5000_price_500' 'cafe_count_5000_price_1000'\n",
      " 'cafe_count_5000_price_1500' 'cafe_count_5000_price_2500'\n",
      " 'cafe_count_5000_price_4000' 'cafe_count_5000_price_high'\n",
      " 'big_church_count_5000' 'church_count_5000' 'mosque_count_5000'\n",
      " 'leisure_count_5000' 'sport_count_5000' 'market_count_5000' 'price_doc']\n"
     ]
    }
   ],
   "source": [
    "df_numeric = df.select_dtypes(include=[np.number])\n",
    "numeric_cols = df_numeric.columns.values\n",
    "print(numeric_cols)\n"
   ]
  },
  {
   "cell_type": "markdown",
   "id": "08d098d3",
   "metadata": {},
   "source": [
    "## select non numeric columns"
   ]
  },
  {
   "cell_type": "code",
   "execution_count": 5,
   "id": "dd21cf3d",
   "metadata": {},
   "outputs": [
    {
     "name": "stdout",
     "output_type": "stream",
     "text": [
      "['timestamp' 'product_type' 'sub_area' 'culture_objects_top_25'\n",
      " 'thermal_power_plant_raion' 'incineration_raion' 'oil_chemistry_raion'\n",
      " 'radiation_raion' 'railroad_terminal_raion' 'big_market_raion'\n",
      " 'nuclear_reactor_raion' 'detention_facility_raion' 'water_1line'\n",
      " 'big_road1_1line' 'railroad_1line' 'ecology']\n"
     ]
    }
   ],
   "source": [
    "df_non_numeric = df.select_dtypes(exclude=[np.number])\n",
    "non_numeric_cols = df_non_numeric.columns.values\n",
    "print(non_numeric_cols)"
   ]
  },
  {
   "cell_type": "markdown",
   "id": "586b9b18",
   "metadata": {},
   "source": [
    "## Missing data\n",
    "\n",
    "### Technique #1: Missing Data Heatmap\n"
   ]
  },
  {
   "cell_type": "code",
   "execution_count": 6,
   "id": "3f6ae176",
   "metadata": {},
   "outputs": [
    {
     "data": {
      "text/plain": [
       "<AxesSubplot:>"
      ]
     },
     "execution_count": 6,
     "metadata": {},
     "output_type": "execute_result"
    },
    {
     "data": {
      "image/png": "[encoded data removed]",
      "text/plain": [
       "<Figure size 864x576 with 2 Axes>"
      ]
     },
     "metadata": {
      "needs_background": "light"
     },
     "output_type": "display_data"
    }
   ],
   "source": [
    "cols = df.columns[:30] # first 30 columns\n",
    "colours = ['#000099', '#ffff00'] # specify the colours - yellow is missing. blue is not missing.\n",
    "sns.heatmap(df[cols].isnull(), cmap=sns.color_palette(colours))"
   ]
  },
  {
   "cell_type": "markdown",
   "id": "cba59bb1",
   "metadata": {},
   "source": [
    "### Technique #2: Missing Data Percentage List"
   ]
  },
  {
   "cell_type": "code",
   "execution_count": 7,
   "id": "51274301",
   "metadata": {},
   "outputs": [
    {
     "name": "stdout",
     "output_type": "stream",
     "text": [
      "id - 0%\n",
      "timestamp - 0%\n",
      "full_sq - 0%\n",
      "life_sq - 21%\n",
      "floor - 1%\n",
      "max_floor - 31%\n",
      "material - 31%\n",
      "build_year - 45%\n",
      "num_room - 31%\n",
      "kitch_sq - 31%\n",
      "state - 44%\n",
      "product_type - 0%\n",
      "sub_area - 0%\n",
      "area_m - 0%\n",
      "raion_popul - 0%\n",
      "green_zone_part - 0%\n",
      "indust_part - 0%\n",
      "children_preschool - 0%\n",
      "preschool_quota - 22%\n",
      "preschool_education_centers_raion - 0%\n",
      "children_school - 0%\n",
      "school_quota - 22%\n",
      "school_education_centers_raion - 0%\n",
      "school_education_centers_top_20_raion - 0%\n",
      "hospital_beds_raion - 47%\n",
      "healthcare_centers_raion - 0%\n",
      "university_top_20_raion - 0%\n",
      "sport_objects_raion - 0%\n",
      "additional_education_raion - 0%\n",
      "culture_objects_top_25 - 0%\n",
      "culture_objects_top_25_raion - 0%\n",
      "shopping_centers_raion - 0%\n",
      "office_raion - 0%\n",
      "thermal_power_plant_raion - 0%\n",
      "incineration_raion - 0%\n",
      "oil_chemistry_raion - 0%\n",
      "radiation_raion - 0%\n",
      "railroad_terminal_raion - 0%\n",
      "big_market_raion - 0%\n",
      "nuclear_reactor_raion - 0%\n",
      "detention_facility_raion - 0%\n",
      "full_all - 0%\n",
      "male_f - 0%\n",
      "female_f - 0%\n",
      "young_all - 0%\n",
      "young_male - 0%\n",
      "young_female - 0%\n",
      "work_all - 0%\n",
      "work_male - 0%\n",
      "work_female - 0%\n",
      "ekder_all - 0%\n",
      "ekder_male - 0%\n",
      "ekder_female - 0%\n",
      "0_6_all - 0%\n",
      "0_6_male - 0%\n",
      "0_6_female - 0%\n",
      "7_14_all - 0%\n",
      "7_14_male - 0%\n",
      "7_14_female - 0%\n",
      "0_17_all - 0%\n",
      "0_17_male - 0%\n",
      "0_17_female - 0%\n",
      "16_29_all - 0%\n",
      "16_29_male - 0%\n",
      "16_29_female - 0%\n",
      "0_13_all - 0%\n",
      "0_13_male - 0%\n",
      "0_13_female - 0%\n",
      "raion_build_count_with_material_info - 16%\n",
      "build_count_block - 16%\n",
      "build_count_wood - 16%\n",
      "build_count_frame - 16%\n",
      "build_count_brick - 16%\n",
      "build_count_monolith - 16%\n",
      "build_count_panel - 16%\n",
      "build_count_foam - 16%\n",
      "build_count_slag - 16%\n",
      "build_count_mix - 16%\n",
      "raion_build_count_with_builddate_info - 16%\n",
      "build_count_before_1920 - 16%\n",
      "build_count_1921-1945 - 16%\n",
      "build_count_1946-1970 - 16%\n",
      "build_count_1971-1995 - 16%\n",
      "build_count_after_1995 - 16%\n",
      "ID_metro - 0%\n",
      "metro_min_avto - 0%\n",
      "metro_km_avto - 0%\n",
      "metro_min_walk - 0%\n",
      "metro_km_walk - 0%\n",
      "kindergarten_km - 0%\n",
      "school_km - 0%\n",
      "park_km - 0%\n",
      "green_zone_km - 0%\n",
      "industrial_km - 0%\n",
      "water_treatment_km - 0%\n",
      "cemetery_km - 0%\n",
      "incineration_km - 0%\n",
      "railroad_station_walk_km - 0%\n",
      "railroad_station_walk_min - 0%\n",
      "ID_railroad_station_walk - 0%\n",
      "railroad_station_avto_km - 0%\n",
      "railroad_station_avto_min - 0%\n",
      "ID_railroad_station_avto - 0%\n",
      "public_transport_station_km - 0%\n",
      "public_transport_station_min_walk - 0%\n",
      "water_km - 0%\n",
      "water_1line - 0%\n",
      "mkad_km - 0%\n",
      "ttk_km - 0%\n",
      "sadovoe_km - 0%\n",
      "bulvar_ring_km - 0%\n",
      "kremlin_km - 0%\n",
      "big_road1_km - 0%\n",
      "ID_big_road1 - 0%\n",
      "big_road1_1line - 0%\n",
      "big_road2_km - 0%\n",
      "ID_big_road2 - 0%\n",
      "railroad_km - 0%\n",
      "railroad_1line - 0%\n",
      "zd_vokzaly_avto_km - 0%\n",
      "ID_railroad_terminal - 0%\n",
      "bus_terminal_avto_km - 0%\n",
      "ID_bus_terminal - 0%\n",
      "oil_chemistry_km - 0%\n",
      "nuclear_reactor_km - 0%\n",
      "radiation_km - 0%\n",
      "power_transmission_line_km - 0%\n",
      "thermal_power_plant_km - 0%\n",
      "ts_km - 0%\n",
      "big_market_km - 0%\n",
      "market_shop_km - 0%\n",
      "fitness_km - 0%\n",
      "swim_pool_km - 0%\n",
      "ice_rink_km - 0%\n",
      "stadium_km - 0%\n",
      "basketball_km - 0%\n",
      "hospice_morgue_km - 0%\n",
      "detention_facility_km - 0%\n",
      "public_healthcare_km - 0%\n",
      "university_km - 0%\n",
      "workplaces_km - 0%\n",
      "shopping_centers_km - 0%\n",
      "office_km - 0%\n",
      "additional_education_km - 0%\n",
      "preschool_km - 0%\n",
      "big_church_km - 0%\n",
      "church_synagogue_km - 0%\n",
      "mosque_km - 0%\n",
      "theater_km - 0%\n",
      "museum_km - 0%\n",
      "exhibition_km - 0%\n",
      "catering_km - 0%\n",
      "ecology - 0%\n",
      "green_part_500 - 0%\n",
      "prom_part_500 - 0%\n",
      "office_count_500 - 0%\n",
      "office_sqm_500 - 0%\n",
      "trc_count_500 - 0%\n",
      "trc_sqm_500 - 0%\n",
      "cafe_count_500 - 0%\n",
      "cafe_sum_500_min_price_avg - 44%\n",
      "cafe_sum_500_max_price_avg - 44%\n",
      "cafe_avg_price_500 - 44%\n",
      "cafe_count_500_na_price - 0%\n",
      "cafe_count_500_price_500 - 0%\n",
      "cafe_count_500_price_1000 - 0%\n",
      "cafe_count_500_price_1500 - 0%\n",
      "cafe_count_500_price_2500 - 0%\n",
      "cafe_count_500_price_4000 - 0%\n",
      "cafe_count_500_price_high - 0%\n",
      "big_church_count_500 - 0%\n",
      "church_count_500 - 0%\n",
      "mosque_count_500 - 0%\n",
      "leisure_count_500 - 0%\n",
      "sport_count_500 - 0%\n",
      "market_count_500 - 0%\n",
      "green_part_1000 - 0%\n",
      "prom_part_1000 - 0%\n",
      "office_count_1000 - 0%\n",
      "office_sqm_1000 - 0%\n",
      "trc_count_1000 - 0%\n",
      "trc_sqm_1000 - 0%\n",
      "cafe_count_1000 - 0%\n",
      "cafe_sum_1000_min_price_avg - 21%\n",
      "cafe_sum_1000_max_price_avg - 21%\n",
      "cafe_avg_price_1000 - 21%\n",
      "cafe_count_1000_na_price - 0%\n",
      "cafe_count_1000_price_500 - 0%\n",
      "cafe_count_1000_price_1000 - 0%\n",
      "cafe_count_1000_price_1500 - 0%\n",
      "cafe_count_1000_price_2500 - 0%\n",
      "cafe_count_1000_price_4000 - 0%\n",
      "cafe_count_1000_price_high - 0%\n",
      "big_church_count_1000 - 0%\n",
      "church_count_1000 - 0%\n",
      "mosque_count_1000 - 0%\n",
      "leisure_count_1000 - 0%\n",
      "sport_count_1000 - 0%\n",
      "market_count_1000 - 0%\n",
      "green_part_1500 - 0%\n",
      "prom_part_1500 - 0%\n",
      "office_count_1500 - 0%\n",
      "office_sqm_1500 - 0%\n",
      "trc_count_1500 - 0%\n",
      "trc_sqm_1500 - 0%\n",
      "cafe_count_1500 - 0%\n",
      "cafe_sum_1500_min_price_avg - 14%\n",
      "cafe_sum_1500_max_price_avg - 14%\n",
      "cafe_avg_price_1500 - 14%\n",
      "cafe_count_1500_na_price - 0%\n",
      "cafe_count_1500_price_500 - 0%\n",
      "cafe_count_1500_price_1000 - 0%\n",
      "cafe_count_1500_price_1500 - 0%\n",
      "cafe_count_1500_price_2500 - 0%\n",
      "cafe_count_1500_price_4000 - 0%\n",
      "cafe_count_1500_price_high - 0%\n",
      "big_church_count_1500 - 0%\n",
      "church_count_1500 - 0%\n",
      "mosque_count_1500 - 0%\n",
      "leisure_count_1500 - 0%\n",
      "sport_count_1500 - 0%\n",
      "market_count_1500 - 0%\n",
      "green_part_2000 - 0%\n",
      "prom_part_2000 - 0%\n",
      "office_count_2000 - 0%\n",
      "office_sqm_2000 - 0%\n",
      "trc_count_2000 - 0%\n",
      "trc_sqm_2000 - 0%\n",
      "cafe_count_2000 - 0%\n",
      "cafe_sum_2000_min_price_avg - 6%\n",
      "cafe_sum_2000_max_price_avg - 6%\n",
      "cafe_avg_price_2000 - 6%\n",
      "cafe_count_2000_na_price - 0%\n",
      "cafe_count_2000_price_500 - 0%\n",
      "cafe_count_2000_price_1000 - 0%\n",
      "cafe_count_2000_price_1500 - 0%\n",
      "cafe_count_2000_price_2500 - 0%\n",
      "cafe_count_2000_price_4000 - 0%\n",
      "cafe_count_2000_price_high - 0%\n",
      "big_church_count_2000 - 0%\n",
      "church_count_2000 - 0%\n",
      "mosque_count_2000 - 0%\n",
      "leisure_count_2000 - 0%\n",
      "sport_count_2000 - 0%\n",
      "market_count_2000 - 0%\n",
      "green_part_3000 - 0%\n",
      "prom_part_3000 - 0%\n",
      "office_count_3000 - 0%\n",
      "office_sqm_3000 - 0%\n",
      "trc_count_3000 - 0%\n",
      "trc_sqm_3000 - 0%\n",
      "cafe_count_3000 - 0%\n",
      "cafe_sum_3000_min_price_avg - 3%\n",
      "cafe_sum_3000_max_price_avg - 3%\n",
      "cafe_avg_price_3000 - 3%\n",
      "cafe_count_3000_na_price - 0%\n",
      "cafe_count_3000_price_500 - 0%\n",
      "cafe_count_3000_price_1000 - 0%\n",
      "cafe_count_3000_price_1500 - 0%\n",
      "cafe_count_3000_price_2500 - 0%\n",
      "cafe_count_3000_price_4000 - 0%\n",
      "cafe_count_3000_price_high - 0%\n",
      "big_church_count_3000 - 0%\n",
      "church_count_3000 - 0%\n",
      "mosque_count_3000 - 0%\n",
      "leisure_count_3000 - 0%\n",
      "sport_count_3000 - 0%\n",
      "market_count_3000 - 0%\n",
      "green_part_5000 - 0%\n",
      "prom_part_5000 - 1%\n",
      "office_count_5000 - 0%\n",
      "office_sqm_5000 - 0%\n",
      "trc_count_5000 - 0%\n",
      "trc_sqm_5000 - 0%\n",
      "cafe_count_5000 - 0%\n",
      "cafe_sum_5000_min_price_avg - 1%\n",
      "cafe_sum_5000_max_price_avg - 1%\n",
      "cafe_avg_price_5000 - 1%\n",
      "cafe_count_5000_na_price - 0%\n",
      "cafe_count_5000_price_500 - 0%\n",
      "cafe_count_5000_price_1000 - 0%\n",
      "cafe_count_5000_price_1500 - 0%\n",
      "cafe_count_5000_price_2500 - 0%\n",
      "cafe_count_5000_price_4000 - 0%\n",
      "cafe_count_5000_price_high - 0%\n",
      "big_church_count_5000 - 0%\n",
      "church_count_5000 - 0%\n",
      "mosque_count_5000 - 0%\n",
      "leisure_count_5000 - 0%\n",
      "sport_count_5000 - 0%\n",
      "market_count_5000 - 0%\n",
      "price_doc - 0%\n"
     ]
    }
   ],
   "source": [
    "# if it's a larger dataset and the visualization takes too long can do this.\n",
    "# % of missing.\n",
    "for col in df.columns:\n",
    "    pct_missing = np.mean(df[col].isnull())\n",
    "    print('{} - {}%'.format(col, round(pct_missing*100)))"
   ]
  },
  {
   "cell_type": "markdown",
   "id": "2f9f70fd",
   "metadata": {},
   "source": [
    "### Technique #3: Missing Data Histogram"
   ]
  },
  {
   "cell_type": "code",
   "execution_count": 8,
   "id": "e0668982",
   "metadata": {
    "scrolled": true
   },
   "outputs": [
    {
     "name": "stdout",
     "output_type": "stream",
     "text": [
      "created missing indicator for: life_sq\n",
      "created missing indicator for: floor\n",
      "created missing indicator for: max_floor\n",
      "created missing indicator for: material\n",
      "created missing indicator for: build_year\n",
      "created missing indicator for: num_room\n",
      "created missing indicator for: kitch_sq\n",
      "created missing indicator for: state\n",
      "created missing indicator for: preschool_quota\n",
      "created missing indicator for: school_quota\n",
      "created missing indicator for: hospital_beds_raion\n",
      "created missing indicator for: raion_build_count_with_material_info\n",
      "created missing indicator for: build_count_block\n",
      "created missing indicator for: build_count_wood\n",
      "created missing indicator for: build_count_frame\n",
      "created missing indicator for: build_count_brick\n",
      "created missing indicator for: build_count_monolith\n",
      "created missing indicator for: build_count_panel\n",
      "created missing indicator for: build_count_foam\n",
      "created missing indicator for: build_count_slag\n",
      "created missing indicator for: build_count_mix\n",
      "created missing indicator for: raion_build_count_with_builddate_info\n",
      "created missing indicator for: build_count_before_1920\n",
      "created missing indicator for: build_count_1921-1945\n",
      "created missing indicator for: build_count_1946-1970\n",
      "created missing indicator for: build_count_1971-1995\n",
      "created missing indicator for: build_count_after_1995\n",
      "created missing indicator for: metro_min_walk\n",
      "created missing indicator for: metro_km_walk\n",
      "created missing indicator for: railroad_station_walk_km\n",
      "created missing indicator for: railroad_station_walk_min\n",
      "created missing indicator for: ID_railroad_station_walk\n",
      "created missing indicator for: cafe_sum_500_min_price_avg\n",
      "created missing indicator for: cafe_sum_500_max_price_avg\n",
      "created missing indicator for: cafe_avg_price_500\n",
      "created missing indicator for: cafe_sum_1000_min_price_avg\n",
      "created missing indicator for: cafe_sum_1000_max_price_avg\n",
      "created missing indicator for: cafe_avg_price_1000\n",
      "created missing indicator for: cafe_sum_1500_min_price_avg\n",
      "created missing indicator for: cafe_sum_1500_max_price_avg\n",
      "created missing indicator for: cafe_avg_price_1500\n",
      "created missing indicator for: cafe_sum_2000_min_price_avg\n",
      "created missing indicator for: cafe_sum_2000_max_price_avg\n",
      "created missing indicator for: cafe_avg_price_2000\n",
      "created missing indicator for: cafe_sum_3000_min_price_avg\n",
      "created missing indicator for: cafe_sum_3000_max_price_avg\n",
      "created missing indicator for: cafe_avg_price_3000\n",
      "created missing indicator for: prom_part_5000\n",
      "created missing indicator for: cafe_sum_5000_min_price_avg\n",
      "created missing indicator for: cafe_sum_5000_max_price_avg\n",
      "created missing indicator for: cafe_avg_price_5000\n"
     ]
    },
    {
     "data": {
      "text/plain": [
       "<AxesSubplot:xlabel='index'>"
      ]
     },
     "execution_count": 8,
     "metadata": {},
     "output_type": "execute_result"
    },
    {
     "data": {
      "image/png": "[encoded data removed]",
      "text/plain": [
       "<Figure size 864x576 with 1 Axes>"
      ]
     },
     "metadata": {
      "needs_background": "light"
     },
     "output_type": "display_data"
    }
   ],
   "source": [
    "# first create missing indicator for features with missing data\n",
    "for col in df.columns:\n",
    "    missing = df[col].isnull()\n",
    "    num_missing = np.sum(missing)\n",
    "    \n",
    "    if num_missing > 0:  \n",
    "        print('created missing indicator for: {}'.format(col))\n",
    "        df['{}_ismissing'.format(col)] = missing\n",
    "\n",
    "\n",
    "# then based on the indicator, plot the histogram of missing values\n",
    "ismissing_cols = [col for col in df.columns if 'ismissing' in col]\n",
    "df['num_missing'] = df[ismissing_cols].sum(axis=1)\n",
    "\n",
    "df['num_missing'].value_counts().reset_index().sort_values(by='index').plot.bar(x='index', y='num_missing')\n"
   ]
  },
  {
   "cell_type": "markdown",
   "id": "1508bbcb",
   "metadata": {},
   "source": [
    "## Solutions for handling missing data"
   ]
  },
  {
   "cell_type": "markdown",
   "id": "b5c0561e",
   "metadata": {},
   "source": [
    "### Solution #1: Drop the Observation"
   ]
  },
  {
   "cell_type": "code",
   "execution_count": 9,
   "id": "349a30bd",
   "metadata": {},
   "outputs": [],
   "source": [
    "# drop rows with a lot of missing values.\n",
    "ind_missing = df[df['num_missing'] > 35].index\n",
    "df_less_missing_rows = df.drop(ind_missing, axis=0)"
   ]
  },
  {
   "cell_type": "markdown",
   "id": "5a3a36fb",
   "metadata": {},
   "source": [
    "### Solution #2: Drop the Feature"
   ]
  },
  {
   "cell_type": "code",
   "execution_count": 10,
   "id": "6f6ed7ff",
   "metadata": {},
   "outputs": [],
   "source": [
    "# hospital_beds_raion has a lot of missing.\n",
    "# If we want to drop.\n",
    "cols_to_drop = ['hospital_beds_raion']\n",
    "df_less_hos_beds_raion = df.drop(cols_to_drop, axis=1)"
   ]
  },
  {
   "cell_type": "markdown",
   "id": "10aa24d4",
   "metadata": {},
   "source": [
    "### Solution #3: Impute the Missing\n"
   ]
  },
  {
   "cell_type": "code",
   "execution_count": 11,
   "id": "36f42ec2",
   "metadata": {},
   "outputs": [
    {
     "name": "stdout",
     "output_type": "stream",
     "text": [
      "30.0\n"
     ]
    }
   ],
   "source": [
    "# replace missing values with the median.\n",
    "med = df['life_sq'].median()\n",
    "print(med)\n",
    "df['life_sq'] = df['life_sq'].fillna(med)"
   ]
  },
  {
   "cell_type": "markdown",
   "id": "df2817ed",
   "metadata": {},
   "source": [
    "Moreover, we can apply the same imputation strategy for all the numeric features at once."
   ]
  },
  {
   "cell_type": "code",
   "execution_count": 12,
   "id": "f4ff6e4b",
   "metadata": {},
   "outputs": [
    {
     "name": "stdout",
     "output_type": "stream",
     "text": [
      "imputing missing values for: floor\n",
      "imputing missing values for: max_floor\n",
      "imputing missing values for: material\n",
      "imputing missing values for: build_year\n",
      "imputing missing values for: num_room\n",
      "imputing missing values for: kitch_sq\n",
      "imputing missing values for: state\n",
      "imputing missing values for: preschool_quota\n",
      "imputing missing values for: school_quota\n",
      "imputing missing values for: hospital_beds_raion\n",
      "imputing missing values for: raion_build_count_with_material_info\n",
      "imputing missing values for: build_count_block\n",
      "imputing missing values for: build_count_wood\n",
      "imputing missing values for: build_count_frame\n",
      "imputing missing values for: build_count_brick\n",
      "imputing missing values for: build_count_monolith\n",
      "imputing missing values for: build_count_panel\n",
      "imputing missing values for: build_count_foam\n",
      "imputing missing values for: build_count_slag\n",
      "imputing missing values for: build_count_mix\n",
      "imputing missing values for: raion_build_count_with_builddate_info\n",
      "imputing missing values for: build_count_before_1920\n",
      "imputing missing values for: build_count_1921-1945\n",
      "imputing missing values for: build_count_1946-1970\n",
      "imputing missing values for: build_count_1971-1995\n",
      "imputing missing values for: build_count_after_1995\n",
      "imputing missing values for: metro_min_walk\n",
      "imputing missing values for: metro_km_walk\n",
      "imputing missing values for: railroad_station_walk_km\n",
      "imputing missing values for: railroad_station_walk_min\n",
      "imputing missing values for: ID_railroad_station_walk\n",
      "imputing missing values for: cafe_sum_500_min_price_avg\n",
      "imputing missing values for: cafe_sum_500_max_price_avg\n",
      "imputing missing values for: cafe_avg_price_500\n",
      "imputing missing values for: cafe_sum_1000_min_price_avg\n",
      "imputing missing values for: cafe_sum_1000_max_price_avg\n",
      "imputing missing values for: cafe_avg_price_1000\n",
      "imputing missing values for: cafe_sum_1500_min_price_avg\n",
      "imputing missing values for: cafe_sum_1500_max_price_avg\n",
      "imputing missing values for: cafe_avg_price_1500\n",
      "imputing missing values for: cafe_sum_2000_min_price_avg\n",
      "imputing missing values for: cafe_sum_2000_max_price_avg\n",
      "imputing missing values for: cafe_avg_price_2000\n",
      "imputing missing values for: cafe_sum_3000_min_price_avg\n",
      "imputing missing values for: cafe_sum_3000_max_price_avg\n",
      "imputing missing values for: cafe_avg_price_3000\n",
      "imputing missing values for: prom_part_5000\n",
      "imputing missing values for: cafe_sum_5000_min_price_avg\n",
      "imputing missing values for: cafe_sum_5000_max_price_avg\n",
      "imputing missing values for: cafe_avg_price_5000\n"
     ]
    }
   ],
   "source": [
    "\n",
    "# impute the missing values and create the missing value indicator variables for each numeric column.\n",
    "df_numeric = df.select_dtypes(include=[np.number])\n",
    "numeric_cols = df_numeric.columns.values\n",
    "\n",
    "for col in numeric_cols:\n",
    "    missing = df[col].isnull()\n",
    "    num_missing = np.sum(missing)\n",
    "    \n",
    "    if num_missing > 0:  # only do the imputation for the columns that have missing values.\n",
    "        print('imputing missing values for: {}'.format(col))\n",
    "        df['{}_ismissing'.format(col)] = missing\n",
    "        med = df[col].median()\n",
    "        df[col] = df[col].fillna(med)"
   ]
  },
  {
   "cell_type": "markdown",
   "id": "012dc7a4",
   "metadata": {},
   "source": [
    "Luckily, our dataset has no missing value for categorical features. Yet, we can apply the mode imputation strategy for all the categorical features at once.\n"
   ]
  },
  {
   "cell_type": "code",
   "execution_count": 13,
   "id": "9fcb6ff2",
   "metadata": {},
   "outputs": [],
   "source": [
    "# impute the missing values and create the missing value indicator variables for each non-numeric column.\n",
    "df_non_numeric = df.select_dtypes(exclude=[np.number])\n",
    "non_numeric_cols = df_non_numeric.columns.values\n",
    "\n",
    "for col in non_numeric_cols:\n",
    "    missing = df[col].isnull()\n",
    "    num_missing = np.sum(missing)\n",
    "    \n",
    "    if num_missing > 0:  # only do the imputation for the columns that have missing values.\n",
    "        print('imputing missing values for: {}'.format(col))\n",
    "        df['{}_ismissing'.format(col)] = missing\n",
    "        \n",
    "        top = df[col].describe()['top'] # impute with the most frequent value.\n",
    "        df[col] = df[col].fillna(top)"
   ]
  },
  {
   "cell_type": "markdown",
   "id": "22c7f4c5",
   "metadata": {},
   "source": [
    "### Solution #4: Replace the Missing"
   ]
  },
  {
   "cell_type": "code",
   "execution_count": 14,
   "id": "c56f5432",
   "metadata": {},
   "outputs": [],
   "source": [
    "# categorical\n",
    "df['sub_area'] = df['sub_area'].fillna('_MISSING_')\n",
    "\n",
    "\n",
    "# numeric\n",
    "df['life_sq'] = df['life_sq'].fillna(-999)"
   ]
  },
  {
   "cell_type": "markdown",
   "id": "4011a6ab",
   "metadata": {},
   "source": [
    "## Irregular data (Outliers)\n",
    "   "
   ]
  },
  {
   "cell_type": "markdown",
   "id": "5711b2fd",
   "metadata": {},
   "source": [
    "### Technique #1: Histogram/Box Plot"
   ]
  },
  {
   "cell_type": "code",
   "execution_count": 15,
   "id": "0951b5da",
   "metadata": {},
   "outputs": [
    {
     "data": {
      "text/plain": [
       "<AxesSubplot:>"
      ]
     },
     "execution_count": 15,
     "metadata": {},
     "output_type": "execute_result"
    },
    {
     "data": {
      "image/png": "[encoded data removed]",
      "text/plain": [
       "<Figure size 864x576 with 1 Axes>"
      ]
     },
     "metadata": {
      "needs_background": "light"
     },
     "output_type": "display_data"
    }
   ],
   "source": [
    "# histogram of life_sq.\n",
    "df['life_sq'].hist(bins=100)"
   ]
  },
  {
   "cell_type": "markdown",
   "id": "64c1870f",
   "metadata": {},
   "source": [
    "The data looks highly skewed with the possible existence of outliers.\n",
    "histogram outlier\n",
    "Histogram\n",
    "To study the feature closer, let’s make a box plot."
   ]
  },
  {
   "cell_type": "code",
   "execution_count": 17,
   "id": "ff954051",
   "metadata": {},
   "outputs": [
    {
     "data": {
      "text/plain": [
       "<AxesSubplot:>"
      ]
     },
     "execution_count": 17,
     "metadata": {},
     "output_type": "execute_result"
    },
    {
     "data": {
      "image/png": "[encoded data removed]",
      "text/plain": [
       "<Figure size 864x576 with 1 Axes>"
      ]
     },
     "metadata": {
      "needs_background": "light"
     },
     "output_type": "display_data"
    }
   ],
   "source": [
    "# box plot.\n",
    "df.boxplot(column=['life_sq'])"
   ]
  },
  {
   "cell_type": "markdown",
   "id": "8a1689d6",
   "metadata": {},
   "source": [
    "In this plot, we can see there is an outlier at a value of over 7000."
   ]
  },
  {
   "cell_type": "markdown",
   "id": "93f2f04c",
   "metadata": {},
   "source": [
    "### Technique #2: Descriptive Statistics"
   ]
  },
  {
   "cell_type": "code",
   "execution_count": 18,
   "id": "3b0fa780",
   "metadata": {},
   "outputs": [
    {
     "data": {
      "text/plain": [
       "count    30471.000000\n",
       "mean        33.480883\n",
       "std         46.522251\n",
       "min          0.000000\n",
       "25%         22.000000\n",
       "50%         30.000000\n",
       "75%         38.000000\n",
       "max       7478.000000\n",
       "Name: life_sq, dtype: float64"
      ]
     },
     "execution_count": 18,
     "metadata": {},
     "output_type": "execute_result"
    }
   ],
   "source": [
    "df['life_sq'].describe()"
   ]
  },
  {
   "cell_type": "markdown",
   "id": "33d5e56e",
   "metadata": {},
   "source": [
    "### Technique #3: Bar Chart"
   ]
  },
  {
   "cell_type": "code",
   "execution_count": 19,
   "id": "06989630",
   "metadata": {},
   "outputs": [
    {
     "data": {
      "text/plain": [
       "<AxesSubplot:>"
      ]
     },
     "execution_count": 19,
     "metadata": {},
     "output_type": "execute_result"
    },
    {
     "data": {
      "image/png": "[encoded data removed]",
      "text/plain": [
       "<Figure size 864x576 with 1 Axes>"
      ]
     },
     "metadata": {
      "needs_background": "light"
     },
     "output_type": "display_data"
    }
   ],
   "source": [
    "# bar chart -  distribution of a categorical variable\n",
    "df['ecology'].value_counts().plot.bar()"
   ]
  },
  {
   "cell_type": "markdown",
   "id": "31391825",
   "metadata": {},
   "source": [
    "    Other Techniques: Many other techniques can spot outliers as well, such as scatter plot, z-score, and clustering. \n",
    "    This article does not cover all of those.\n",
    "\n",
    "## Solution to handle outlier\n",
    "\n",
    "    The methods of handling outliers are somewhat similar to missing data. We either drop or adjust or keep them. We can \n",
    "    refer back to the missing data section for possible solutions.\n",
    "    "
   ]
  },
  {
   "cell_type": "markdown",
   "id": "054f3d3c",
   "metadata": {},
   "source": [
    "## Unnecessary data\n",
    "    \n",
    "#### Unnecessary type #1: Uninformative / Repetitive"
   ]
  },
  {
   "cell_type": "code",
   "execution_count": 20,
   "id": "408678af",
   "metadata": {},
   "outputs": [
    {
     "name": "stdout",
     "output_type": "stream",
     "text": [
      "oil_chemistry_raion: 99.02858%\n",
      "no     30175\n",
      "yes      296\n",
      "Name: oil_chemistry_raion, dtype: int64\n",
      "\n",
      "railroad_terminal_raion: 96.27187%\n",
      "no     29335\n",
      "yes     1136\n",
      "Name: railroad_terminal_raion, dtype: int64\n",
      "\n",
      "nuclear_reactor_raion: 97.16780%\n",
      "no     29608\n",
      "yes      863\n",
      "Name: nuclear_reactor_raion, dtype: int64\n",
      "\n",
      "build_count_foam: 95.35624%\n",
      "0.0     29056\n",
      "1.0       969\n",
      "11.0      262\n",
      "2.0       184\n",
      "Name: build_count_foam, dtype: int64\n",
      "\n",
      "big_road1_1line: 97.43691%\n",
      "no     29690\n",
      "yes      781\n",
      "Name: big_road1_1line, dtype: int64\n",
      "\n",
      "railroad_1line: 97.06934%\n",
      "no     29578\n",
      "yes      893\n",
      "Name: railroad_1line, dtype: int64\n",
      "\n",
      "cafe_count_500_price_high: 97.25641%\n",
      "0    29635\n",
      "1      787\n",
      "2       38\n",
      "3       11\n",
      "Name: cafe_count_500_price_high, dtype: int64\n",
      "\n",
      "mosque_count_500: 99.51101%\n",
      "0    30322\n",
      "1      149\n",
      "Name: mosque_count_500, dtype: int64\n",
      "\n",
      "cafe_count_1000_price_high: 95.52689%\n",
      "0    29108\n",
      "1     1104\n",
      "2      145\n",
      "3       51\n",
      "4       39\n",
      "5       15\n",
      "6        8\n",
      "7        1\n",
      "Name: cafe_count_1000_price_high, dtype: int64\n",
      "\n",
      "mosque_count_1000: 98.08342%\n",
      "0    29887\n",
      "1      584\n",
      "Name: mosque_count_1000, dtype: int64\n",
      "\n",
      "mosque_count_1500: 96.21936%\n",
      "0    29319\n",
      "1     1152\n",
      "Name: mosque_count_1500, dtype: int64\n",
      "\n",
      "floor_ismissing: 99.45194%\n",
      "False    30304\n",
      "True       167\n",
      "Name: floor_ismissing, dtype: int64\n",
      "\n",
      "metro_min_walk_ismissing: 99.91795%\n",
      "False    30446\n",
      "True        25\n",
      "Name: metro_min_walk_ismissing, dtype: int64\n",
      "\n",
      "metro_km_walk_ismissing: 99.91795%\n",
      "False    30446\n",
      "True        25\n",
      "Name: metro_km_walk_ismissing, dtype: int64\n",
      "\n",
      "railroad_station_walk_km_ismissing: 99.91795%\n",
      "False    30446\n",
      "True        25\n",
      "Name: railroad_station_walk_km_ismissing, dtype: int64\n",
      "\n",
      "railroad_station_walk_min_ismissing: 99.91795%\n",
      "False    30446\n",
      "True        25\n",
      "Name: railroad_station_walk_min_ismissing, dtype: int64\n",
      "\n",
      "ID_railroad_station_walk_ismissing: 99.91795%\n",
      "False    30446\n",
      "True        25\n",
      "Name: ID_railroad_station_walk_ismissing, dtype: int64\n",
      "\n",
      "cafe_sum_3000_min_price_avg_ismissing: 96.74773%\n",
      "False    29480\n",
      "True       991\n",
      "Name: cafe_sum_3000_min_price_avg_ismissing, dtype: int64\n",
      "\n",
      "cafe_sum_3000_max_price_avg_ismissing: 96.74773%\n",
      "False    29480\n",
      "True       991\n",
      "Name: cafe_sum_3000_max_price_avg_ismissing, dtype: int64\n",
      "\n",
      "cafe_avg_price_3000_ismissing: 96.74773%\n",
      "False    29480\n",
      "True       991\n",
      "Name: cafe_avg_price_3000_ismissing, dtype: int64\n",
      "\n",
      "prom_part_5000_ismissing: 99.41584%\n",
      "False    30293\n",
      "True       178\n",
      "Name: prom_part_5000_ismissing, dtype: int64\n",
      "\n",
      "cafe_sum_5000_min_price_avg_ismissing: 99.02530%\n",
      "False    30174\n",
      "True       297\n",
      "Name: cafe_sum_5000_min_price_avg_ismissing, dtype: int64\n",
      "\n",
      "cafe_sum_5000_max_price_avg_ismissing: 99.02530%\n",
      "False    30174\n",
      "True       297\n",
      "Name: cafe_sum_5000_max_price_avg_ismissing, dtype: int64\n",
      "\n",
      "cafe_avg_price_5000_ismissing: 99.02530%\n",
      "False    30174\n",
      "True       297\n",
      "Name: cafe_avg_price_5000_ismissing, dtype: int64\n",
      "\n"
     ]
    }
   ],
   "source": [
    "num_rows = len(df.index)\n",
    "low_information_cols = [] #\n",
    "\n",
    "for col in df.columns:\n",
    "    cnts = df[col].value_counts(dropna=False)\n",
    "    top_pct = (cnts/num_rows).iloc[0]\n",
    "    \n",
    "    if top_pct > 0.95:\n",
    "        low_information_cols.append(col)\n",
    "        print('{0}: {1:.5f}%'.format(col, top_pct*100))\n",
    "        print(cnts)\n",
    "        print()"
   ]
  },
  {
   "cell_type": "markdown",
   "id": "2087999e",
   "metadata": {},
   "source": [
    "We can look into these variables one by one to see whether they are informative or not. We won’t show the details here."
   ]
  },
  {
   "cell_type": "markdown",
   "id": "0799e3d7",
   "metadata": {},
   "source": [
    "### Unnecessary type #2: Irrelevant\n",
    "    The data needs to provide valuable information for the project. If the features are not related to the question we are \n",
    "    trying to solve in the project, they are irrelevant.\n",
    "    How to find out?\n",
    "    We need to skim through the features to identify irrelevant ones.\n",
    "    For example, a feature recording the temperature in Toronto doesn’t provide any useful insights to predict Russian\n",
    "    housing prices.\n",
    "    What to do?\n",
    "    When the features are not serving the project’s goal, we can remove them.\n",
    "    "
   ]
  },
  {
   "cell_type": "markdown",
   "id": "e0af23f3",
   "metadata": {},
   "source": [
    "### Unnecessary type #3: Duplicates\n",
    "    The duplicate data is when copies of the same observation exist.\n",
    "    There are two main types of duplicate data.\n",
    "##### Duplicates type #1: All Features based\n",
    "    "
   ]
  },
  {
   "cell_type": "code",
   "execution_count": 20,
   "id": "fb046714",
   "metadata": {},
   "outputs": [
    {
     "name": "stdout",
     "output_type": "stream",
     "text": [
      "(30471, 344)\n",
      "(30461, 343)\n"
     ]
    }
   ],
   "source": [
    "# we know that column 'id' is unique, but what if we drop it?\n",
    "df_dedupped = df.drop('id', axis=1).drop_duplicates()\n",
    "\n",
    "# there were duplicate rows\n",
    "print(df.shape)\n",
    "print(df_dedupped.shape)"
   ]
  },
  {
   "cell_type": "markdown",
   "id": "a089c416",
   "metadata": {},
   "source": [
    "10 rows are being complete duplicate observations."
   ]
  },
  {
   "cell_type": "markdown",
   "id": "6c5d028b",
   "metadata": {},
   "source": [
    "####    Duplicates type #2: Key Features based"
   ]
  },
  {
   "cell_type": "code",
   "execution_count": 21,
   "id": "24f5c19b",
   "metadata": {},
   "outputs": [
    {
     "data": {
      "text/plain": [
       "timestamp   full_sq  life_sq  floor  build_year  num_room  price_doc\n",
       "2013-12-18  39       30.0     6.0    1979.0      1.0       3700946      2\n",
       "2015-03-30  41       41.0     11.0   2016.0      1.0       4114580      2\n",
       "2015-03-14  62       30.0     2.0    1979.0      2.0       6520500      2\n",
       "2013-12-05  40       30.0     5.0    1979.0      1.0       4414080      2\n",
       "2013-06-24  40       30.0     12.0   1979.0      2.0       4112800      2\n",
       "2013-08-30  40       30.0     12.0   1979.0      1.0       4462000      2\n",
       "2014-12-09  40       30.0     17.0   1979.0      1.0       4607265      2\n",
       "2012-08-27  59       30.0     6.0    1979.0      2.0       4506800      2\n",
       "2014-04-15  134      134.0    1.0    0.0         3.0       5798496      2\n",
       "2013-09-23  85       30.0     14.0   1979.0      3.0       7725974      2\n",
       "2014-01-22  46       28.0     1.0    1968.0      2.0       3000000      2\n",
       "2014-12-17  62       30.0     9.0    1979.0      2.0       6552000      2\n",
       "2012-10-22  61       30.0     18.0   1979.0      2.0       8248500      2\n",
       "2013-04-03  42       30.0     2.0    1979.0      2.0       3444000      2\n",
       "2012-09-05  43       30.0     21.0   1979.0      2.0       6229540      2\n",
       "2013-05-22  68       30.0     2.0    1979.0      2.0       5406690      2\n",
       "2014-06-28  39       20.0     8.0    1980.0      1.0       7400000      1\n",
       "            38       30.0     16.0   1979.0      1.0       4661000      1\n",
       "                              9.0    1979.0      1.0       4021422      1\n",
       "                              6.0    1979.0      1.0       4737189      1\n",
       "Name: id, dtype: int64"
      ]
     },
     "execution_count": 21,
     "metadata": {},
     "output_type": "execute_result"
    }
   ],
   "source": [
    "key = ['timestamp', 'full_sq', 'life_sq', 'floor', 'build_year', 'num_room', 'price_doc']\n",
    "\n",
    "df.fillna(-999).groupby(key)['id'].count().sort_values(ascending=False).head(20)"
   ]
  },
  {
   "cell_type": "markdown",
   "id": "34ad05ca",
   "metadata": {},
   "source": [
    "There are 16 duplicates based on this set of key features.\n"
   ]
  },
  {
   "cell_type": "markdown",
   "id": "1d0f3df3",
   "metadata": {},
   "source": [
    "What to do?\n",
    "We can drop these duplicates based on the key features."
   ]
  },
  {
   "cell_type": "code",
   "execution_count": 22,
   "id": "82c28faa",
   "metadata": {},
   "outputs": [
    {
     "name": "stdout",
     "output_type": "stream",
     "text": [
      "(30471, 344)\n",
      "(30455, 344)\n"
     ]
    }
   ],
   "source": [
    "# drop duplicates based on an subset of variables.\n",
    "\n",
    "key = ['timestamp', 'full_sq', 'life_sq', 'floor', 'build_year', 'num_room', 'price_doc']\n",
    "df_dedupped2 = df.drop_duplicates(subset=key)\n",
    "\n",
    "print(df.shape)\n",
    "print(df_dedupped2.shape)"
   ]
  },
  {
   "cell_type": "markdown",
   "id": "d8871da2",
   "metadata": {},
   "source": [
    "We dropped the 16 duplicates within the new dataset named df_dedupped2."
   ]
  },
  {
   "cell_type": "markdown",
   "id": "265903d5",
   "metadata": {},
   "source": [
    "# Thank You!"
   ]
  },
  {
   "cell_type": "code",
   "execution_count": null,
   "id": "d4242065",
   "metadata": {},
   "outputs": [],
   "source": []
  }
 ],
 "metadata": {
  "kernelspec": {
   "display_name": "Python 3",
   "language": "python",
   "name": "python3"
  },
  "language_info": {
   "codemirror_mode": {
    "name": "ipython",
    "version": 3
   },
   "file_extension": ".py",
   "mimetype": "text/x-python",
   "name": "python",
   "nbconvert_exporter": "python",
   "pygments_lexer": "ipython3",
   "version": "3.8.8"
  }
 },
 "nbformat": 4,
 "nbformat_minor": 5
}
